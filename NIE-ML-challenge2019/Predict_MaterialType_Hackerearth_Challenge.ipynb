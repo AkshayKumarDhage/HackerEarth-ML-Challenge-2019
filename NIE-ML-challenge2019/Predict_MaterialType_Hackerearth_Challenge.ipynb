{
  "nbformat": 4,
  "nbformat_minor": 0,
  "metadata": {
    "colab": {
      "name": "Predict_MaterialType-Hackerearth_Challenge.ipynb",
      "version": "0.3.2",
      "provenance": [],
      "collapsed_sections": []
    },
    "language_info": {
      "codemirror_mode": {
        "name": "ipython",
        "version": 3
      },
      "file_extension": ".py",
      "mimetype": "text/x-python",
      "name": "python",
      "nbconvert_exporter": "python",
      "pygments_lexer": "ipython3",
      "version": "3.6.7"
    },
    "kernelspec": {
      "display_name": "Python 3",
      "language": "python",
      "name": "python3"
    }
  },
  "cells": [
    {
      "metadata": {
        "id": "OstRIbeALUyd",
        "colab_type": "text"
      },
      "cell_type": "markdown",
      "source": [
        "# NIE-ML Challenge \n",
        "\n",
        "## Predict the Publishing Material Type - Hackerearth Challenge"
      ]
    },
    {
      "metadata": {
        "id": "EaT3sFrdLUyl",
        "colab_type": "code",
        "colab": {}
      },
      "cell_type": "code",
      "source": [
        "#Import necessary packages\n",
        "import pandas as pd\n",
        "import numpy as np\n",
        "import matplotlib.pyplot as plt\n",
        "import seaborn as sns\n",
        "import missingno\n",
        "\n",
        "%matplotlib inline\n",
        "\n",
        "import warnings\n",
        "warnings.filterwarnings('ignore')"
      ],
      "execution_count": 0,
      "outputs": []
    },
    {
      "metadata": {
        "id": "RMVQ6hJXLUyy",
        "colab_type": "code",
        "colab": {},
        "outputId": "81c5267e-0d53-462e-aaac-c50c5b20e62e"
      },
      "cell_type": "code",
      "source": [
        "#Train and Test dataset\n",
        "train = pd.read_csv('train_file.csv')\n",
        "test = pd.read_csv('test_file.csv')\n",
        "\n",
        "print('Train shape: {}'.format(train.shape))\n",
        "print('Test shape: {}'.format(test.shape))"
      ],
      "execution_count": 0,
      "outputs": [
        {
          "output_type": "stream",
          "text": [
            "Train shape: (31653, 12)\n",
            "Test shape: (21102, 11)\n"
          ],
          "name": "stdout"
        }
      ]
    },
    {
      "metadata": {
        "id": "dons1auSLUzE",
        "colab_type": "code",
        "colab": {},
        "outputId": "e9d0ee05-8d3b-4e6b-bfc1-d75eb69397da"
      },
      "cell_type": "code",
      "source": [
        "train.head()"
      ],
      "execution_count": 0,
      "outputs": [
        {
          "output_type": "execute_result",
          "data": {
            "text/html": [
              "<div>\n",
              "<style scoped>\n",
              "    .dataframe tbody tr th:only-of-type {\n",
              "        vertical-align: middle;\n",
              "    }\n",
              "\n",
              "    .dataframe tbody tr th {\n",
              "        vertical-align: top;\n",
              "    }\n",
              "\n",
              "    .dataframe thead th {\n",
              "        text-align: right;\n",
              "    }\n",
              "</style>\n",
              "<table border=\"1\" class=\"dataframe\">\n",
              "  <thead>\n",
              "    <tr style=\"text-align: right;\">\n",
              "      <th></th>\n",
              "      <th>ID</th>\n",
              "      <th>UsageClass</th>\n",
              "      <th>CheckoutType</th>\n",
              "      <th>CheckoutYear</th>\n",
              "      <th>CheckoutMonth</th>\n",
              "      <th>Checkouts</th>\n",
              "      <th>Title</th>\n",
              "      <th>Creator</th>\n",
              "      <th>Subjects</th>\n",
              "      <th>Publisher</th>\n",
              "      <th>PublicationYear</th>\n",
              "      <th>MaterialType</th>\n",
              "    </tr>\n",
              "  </thead>\n",
              "  <tbody>\n",
              "    <tr>\n",
              "      <th>0</th>\n",
              "      <td>1</td>\n",
              "      <td>Physical</td>\n",
              "      <td>Horizon</td>\n",
              "      <td>2005</td>\n",
              "      <td>4</td>\n",
              "      <td>1</td>\n",
              "      <td>Tidal wave</td>\n",
              "      <td>NaN</td>\n",
              "      <td>Tsunamis, Tsunamis Juvenile literature</td>\n",
              "      <td>NaN</td>\n",
              "      <td>NaN</td>\n",
              "      <td>BOOK</td>\n",
              "    </tr>\n",
              "    <tr>\n",
              "      <th>1</th>\n",
              "      <td>2</td>\n",
              "      <td>Physical</td>\n",
              "      <td>Horizon</td>\n",
              "      <td>2005</td>\n",
              "      <td>4</td>\n",
              "      <td>1</td>\n",
              "      <td>London holiday / Richard Peck.</td>\n",
              "      <td>Peck, Richard, 1934-</td>\n",
              "      <td>NaN</td>\n",
              "      <td>Viking,</td>\n",
              "      <td>1998.</td>\n",
              "      <td>BOOK</td>\n",
              "    </tr>\n",
              "    <tr>\n",
              "      <th>2</th>\n",
              "      <td>3</td>\n",
              "      <td>Physical</td>\n",
              "      <td>Horizon</td>\n",
              "      <td>2005</td>\n",
              "      <td>4</td>\n",
              "      <td>3</td>\n",
              "      <td>Cinco de Mayo : celebrating Hispanic pride / C...</td>\n",
              "      <td>Gnojewski, Carol</td>\n",
              "      <td>Cinco de Mayo Mexican holiday History Juvenile...</td>\n",
              "      <td>Enslow Publishers,</td>\n",
              "      <td>c2002.</td>\n",
              "      <td>BOOK</td>\n",
              "    </tr>\n",
              "    <tr>\n",
              "      <th>3</th>\n",
              "      <td>4</td>\n",
              "      <td>Physical</td>\n",
              "      <td>Horizon</td>\n",
              "      <td>2005</td>\n",
              "      <td>4</td>\n",
              "      <td>1</td>\n",
              "      <td>Annapolis</td>\n",
              "      <td>NaN</td>\n",
              "      <td>War stories, Historical fiction, Domestic fict...</td>\n",
              "      <td>NaN</td>\n",
              "      <td>NaN</td>\n",
              "      <td>BOOK</td>\n",
              "    </tr>\n",
              "    <tr>\n",
              "      <th>4</th>\n",
              "      <td>5</td>\n",
              "      <td>Physical</td>\n",
              "      <td>Horizon</td>\n",
              "      <td>2005</td>\n",
              "      <td>4</td>\n",
              "      <td>1</td>\n",
              "      <td>As a man thinketh</td>\n",
              "      <td>NaN</td>\n",
              "      <td>Thought and thinking</td>\n",
              "      <td>NaN</td>\n",
              "      <td>NaN</td>\n",
              "      <td>BOOK</td>\n",
              "    </tr>\n",
              "  </tbody>\n",
              "</table>\n",
              "</div>"
            ],
            "text/plain": [
              "   ID UsageClass CheckoutType  CheckoutYear  CheckoutMonth  Checkouts  \\\n",
              "0   1   Physical      Horizon          2005              4          1   \n",
              "1   2   Physical      Horizon          2005              4          1   \n",
              "2   3   Physical      Horizon          2005              4          3   \n",
              "3   4   Physical      Horizon          2005              4          1   \n",
              "4   5   Physical      Horizon          2005              4          1   \n",
              "\n",
              "                                               Title               Creator  \\\n",
              "0                                         Tidal wave                   NaN   \n",
              "1                     London holiday / Richard Peck.  Peck, Richard, 1934-   \n",
              "2  Cinco de Mayo : celebrating Hispanic pride / C...      Gnojewski, Carol   \n",
              "3                                          Annapolis                   NaN   \n",
              "4                                  As a man thinketh                   NaN   \n",
              "\n",
              "                                            Subjects           Publisher  \\\n",
              "0             Tsunamis, Tsunamis Juvenile literature                 NaN   \n",
              "1                                                NaN             Viking,   \n",
              "2  Cinco de Mayo Mexican holiday History Juvenile...  Enslow Publishers,   \n",
              "3  War stories, Historical fiction, Domestic fict...                 NaN   \n",
              "4                               Thought and thinking                 NaN   \n",
              "\n",
              "  PublicationYear MaterialType  \n",
              "0             NaN         BOOK  \n",
              "1           1998.         BOOK  \n",
              "2          c2002.         BOOK  \n",
              "3             NaN         BOOK  \n",
              "4             NaN         BOOK  "
            ]
          },
          "metadata": {
            "tags": []
          },
          "execution_count": 19
        }
      ]
    },
    {
      "metadata": {
        "scrolled": true,
        "id": "ze5d77zeLUzS",
        "colab_type": "code",
        "colab": {},
        "outputId": "8a2552af-9def-4912-d574-2a34276ef13a"
      },
      "cell_type": "code",
      "source": [
        "train.describe()"
      ],
      "execution_count": 0,
      "outputs": [
        {
          "output_type": "execute_result",
          "data": {
            "text/html": [
              "<div>\n",
              "<style scoped>\n",
              "    .dataframe tbody tr th:only-of-type {\n",
              "        vertical-align: middle;\n",
              "    }\n",
              "\n",
              "    .dataframe tbody tr th {\n",
              "        vertical-align: top;\n",
              "    }\n",
              "\n",
              "    .dataframe thead th {\n",
              "        text-align: right;\n",
              "    }\n",
              "</style>\n",
              "<table border=\"1\" class=\"dataframe\">\n",
              "  <thead>\n",
              "    <tr style=\"text-align: right;\">\n",
              "      <th></th>\n",
              "      <th>ID</th>\n",
              "      <th>CheckoutYear</th>\n",
              "      <th>CheckoutMonth</th>\n",
              "      <th>Checkouts</th>\n",
              "    </tr>\n",
              "  </thead>\n",
              "  <tbody>\n",
              "    <tr>\n",
              "      <th>count</th>\n",
              "      <td>31653.000000</td>\n",
              "      <td>31653.0</td>\n",
              "      <td>31653.0</td>\n",
              "      <td>31653.000000</td>\n",
              "    </tr>\n",
              "    <tr>\n",
              "      <th>mean</th>\n",
              "      <td>15827.000000</td>\n",
              "      <td>2005.0</td>\n",
              "      <td>4.0</td>\n",
              "      <td>2.117430</td>\n",
              "    </tr>\n",
              "    <tr>\n",
              "      <th>std</th>\n",
              "      <td>9137.578372</td>\n",
              "      <td>0.0</td>\n",
              "      <td>0.0</td>\n",
              "      <td>2.629428</td>\n",
              "    </tr>\n",
              "    <tr>\n",
              "      <th>min</th>\n",
              "      <td>1.000000</td>\n",
              "      <td>2005.0</td>\n",
              "      <td>4.0</td>\n",
              "      <td>1.000000</td>\n",
              "    </tr>\n",
              "    <tr>\n",
              "      <th>25%</th>\n",
              "      <td>7914.000000</td>\n",
              "      <td>2005.0</td>\n",
              "      <td>4.0</td>\n",
              "      <td>1.000000</td>\n",
              "    </tr>\n",
              "    <tr>\n",
              "      <th>50%</th>\n",
              "      <td>15827.000000</td>\n",
              "      <td>2005.0</td>\n",
              "      <td>4.0</td>\n",
              "      <td>1.000000</td>\n",
              "    </tr>\n",
              "    <tr>\n",
              "      <th>75%</th>\n",
              "      <td>23740.000000</td>\n",
              "      <td>2005.0</td>\n",
              "      <td>4.0</td>\n",
              "      <td>2.000000</td>\n",
              "    </tr>\n",
              "    <tr>\n",
              "      <th>max</th>\n",
              "      <td>31653.000000</td>\n",
              "      <td>2005.0</td>\n",
              "      <td>4.0</td>\n",
              "      <td>85.000000</td>\n",
              "    </tr>\n",
              "  </tbody>\n",
              "</table>\n",
              "</div>"
            ],
            "text/plain": [
              "                 ID  CheckoutYear  CheckoutMonth     Checkouts\n",
              "count  31653.000000       31653.0        31653.0  31653.000000\n",
              "mean   15827.000000        2005.0            4.0      2.117430\n",
              "std     9137.578372           0.0            0.0      2.629428\n",
              "min        1.000000        2005.0            4.0      1.000000\n",
              "25%     7914.000000        2005.0            4.0      1.000000\n",
              "50%    15827.000000        2005.0            4.0      1.000000\n",
              "75%    23740.000000        2005.0            4.0      2.000000\n",
              "max    31653.000000        2005.0            4.0     85.000000"
            ]
          },
          "metadata": {
            "tags": []
          },
          "execution_count": 20
        }
      ]
    },
    {
      "metadata": {
        "scrolled": true,
        "id": "6l7kWQhULUzf",
        "colab_type": "code",
        "colab": {},
        "outputId": "0510ec7a-3172-49e7-9b4d-00f882defa3d"
      },
      "cell_type": "code",
      "source": [
        "train.info()"
      ],
      "execution_count": 0,
      "outputs": [
        {
          "output_type": "stream",
          "text": [
            "<class 'pandas.core.frame.DataFrame'>\n",
            "RangeIndex: 31653 entries, 0 to 31652\n",
            "Data columns (total 12 columns):\n",
            "ID                 31653 non-null int64\n",
            "UsageClass         31653 non-null object\n",
            "CheckoutType       31653 non-null object\n",
            "CheckoutYear       31653 non-null int64\n",
            "CheckoutMonth      31653 non-null int64\n",
            "Checkouts          31653 non-null int64\n",
            "Title              31653 non-null object\n",
            "Creator            8516 non-null object\n",
            "Subjects           29890 non-null object\n",
            "Publisher          9737 non-null object\n",
            "PublicationYear    9722 non-null object\n",
            "MaterialType       31653 non-null object\n",
            "dtypes: int64(4), object(8)\n",
            "memory usage: 2.9+ MB\n"
          ],
          "name": "stdout"
        }
      ]
    },
    {
      "metadata": {
        "id": "jXgSISwBLUzs",
        "colab_type": "text"
      },
      "cell_type": "markdown",
      "source": [
        "Above we can clearly see that there is lot of missing data, total there are 31653 data samples,\n",
        "in Creator column there are only 8516 values out of 31653, are available\n",
        "in Subjects column few of data is missing, we have 29890/31653 values\n",
        "A lot of data from Publisher and PublicationYear is missing."
      ]
    },
    {
      "metadata": {
        "id": "xYtIXch4LUzu",
        "colab_type": "code",
        "colab": {},
        "outputId": "8a17f42c-026c-48df-c5d1-d0c24085e72e"
      },
      "cell_type": "code",
      "source": [
        "#Countplot of various MaterialType\n",
        "plt.figure(figsize = (20, 10))\n",
        "sns.countplot('MaterialType', data=train)\n",
        "plt.show()"
      ],
      "execution_count": 0,
      "outputs": [
        {
          "output_type": "display_data",
          "data": {
            "image/png": "[encoded data removed]",
            "text/plain": [
              "<Figure size 1440x720 with 1 Axes>"
            ]
          },
          "metadata": {
            "tags": [],
            "needs_background": "light"
          }
        }
      ]
    },
    {
      "metadata": {
        "id": "_fX0j1p1LUz8",
        "colab_type": "text"
      },
      "cell_type": "markdown",
      "source": [
        "The above graph very well describes the frequency of MaterialTypes used,\n",
        "We find that BOOK is the most prefered MaterialType.\n",
        "SOUNDISC and VIDEOCASS are the next prefered types.\n",
        "Rest MaterialTypes are very less likely to be prefered."
      ]
    },
    {
      "metadata": {
        "id": "wwLU3VTJLUz_",
        "colab_type": "code",
        "colab": {},
        "outputId": "88e26ca3-352a-464a-be11-6140e4678dd9"
      },
      "cell_type": "code",
      "source": [
        "#Visualise missing data\n",
        "missingno.matrix(train)\n",
        "plt.show()"
      ],
      "execution_count": 0,
      "outputs": [
        {
          "output_type": "display_data",
          "data": {
            "image/png": "[encoded data removed]",
            "text/plain": [
              "<Figure size 1800x720 with 2 Axes>"
            ]
          },
          "metadata": {
            "tags": [],
            "needs_background": "light"
          }
        }
      ]
    },
    {
      "metadata": {
        "id": "b10YrNGBLU0L",
        "colab_type": "text"
      },
      "cell_type": "markdown",
      "source": [
        "This missingno matrix very well describes overall absence of data in the dataset.\n",
        "White lines represent missing values(NaN)."
      ]
    },
    {
      "metadata": {
        "id": "MS9cZRuYLU0O",
        "colab_type": "text"
      },
      "cell_type": "markdown",
      "source": [
        "Now, firstly we require to preprocess the data, and remove unwanted feature columns which donot effect the MaterialType to be used like 'ID', 'Title' etc.\n",
        "And since there is few data missing in Subjects column, we need to figure out some way to get frame values for missing data.\n",
        "Below Cells are self explanatory for preprocessing process."
      ]
    },
    {
      "metadata": {
        "id": "UUEkUwaILU0R",
        "colab_type": "code",
        "colab": {}
      },
      "cell_type": "code",
      "source": [
        "#Handeling missing values in Subjects Column\n",
        "def fill_sub(col):\n",
        "    subject = col[0]\n",
        "    if 'Video' in str(subject):\n",
        "        return 'video'\n",
        "    elif 'video' in str(subject):\n",
        "        return 'video'\n",
        "    elif 'film' in str(subject):\n",
        "        return 'video'\n",
        "    elif 'music' in str(subject):\n",
        "        return 'music'\n",
        "    elif 'Music' in str(subject):\n",
        "        return 'music'\n",
        "    else:\n",
        "        return 'book'"
      ],
      "execution_count": 0,
      "outputs": []
    },
    {
      "metadata": {
        "id": "8t_34UpELU0a",
        "colab_type": "code",
        "colab": {},
        "outputId": "1ae0da45-260d-49ec-e641-6870710d9abc"
      },
      "cell_type": "code",
      "source": [
        "train['Subjects'] = train[['Subjects']].apply(fill_sub, axis=1)\n",
        "train.head()"
      ],
      "execution_count": 0,
      "outputs": [
        {
          "output_type": "execute_result",
          "data": {
            "text/html": [
              "<div>\n",
              "<style scoped>\n",
              "    .dataframe tbody tr th:only-of-type {\n",
              "        vertical-align: middle;\n",
              "    }\n",
              "\n",
              "    .dataframe tbody tr th {\n",
              "        vertical-align: top;\n",
              "    }\n",
              "\n",
              "    .dataframe thead th {\n",
              "        text-align: right;\n",
              "    }\n",
              "</style>\n",
              "<table border=\"1\" class=\"dataframe\">\n",
              "  <thead>\n",
              "    <tr style=\"text-align: right;\">\n",
              "      <th></th>\n",
              "      <th>ID</th>\n",
              "      <th>UsageClass</th>\n",
              "      <th>CheckoutType</th>\n",
              "      <th>CheckoutYear</th>\n",
              "      <th>CheckoutMonth</th>\n",
              "      <th>Checkouts</th>\n",
              "      <th>Title</th>\n",
              "      <th>Creator</th>\n",
              "      <th>Subjects</th>\n",
              "      <th>Publisher</th>\n",
              "      <th>PublicationYear</th>\n",
              "      <th>MaterialType</th>\n",
              "    </tr>\n",
              "  </thead>\n",
              "  <tbody>\n",
              "    <tr>\n",
              "      <th>0</th>\n",
              "      <td>1</td>\n",
              "      <td>Physical</td>\n",
              "      <td>Horizon</td>\n",
              "      <td>2005</td>\n",
              "      <td>4</td>\n",
              "      <td>1</td>\n",
              "      <td>Tidal wave</td>\n",
              "      <td>NaN</td>\n",
              "      <td>book</td>\n",
              "      <td>NaN</td>\n",
              "      <td>NaN</td>\n",
              "      <td>BOOK</td>\n",
              "    </tr>\n",
              "    <tr>\n",
              "      <th>1</th>\n",
              "      <td>2</td>\n",
              "      <td>Physical</td>\n",
              "      <td>Horizon</td>\n",
              "      <td>2005</td>\n",
              "      <td>4</td>\n",
              "      <td>1</td>\n",
              "      <td>London holiday / Richard Peck.</td>\n",
              "      <td>Peck, Richard, 1934-</td>\n",
              "      <td>book</td>\n",
              "      <td>Viking,</td>\n",
              "      <td>1998.</td>\n",
              "      <td>BOOK</td>\n",
              "    </tr>\n",
              "    <tr>\n",
              "      <th>2</th>\n",
              "      <td>3</td>\n",
              "      <td>Physical</td>\n",
              "      <td>Horizon</td>\n",
              "      <td>2005</td>\n",
              "      <td>4</td>\n",
              "      <td>3</td>\n",
              "      <td>Cinco de Mayo : celebrating Hispanic pride / C...</td>\n",
              "      <td>Gnojewski, Carol</td>\n",
              "      <td>book</td>\n",
              "      <td>Enslow Publishers,</td>\n",
              "      <td>c2002.</td>\n",
              "      <td>BOOK</td>\n",
              "    </tr>\n",
              "    <tr>\n",
              "      <th>3</th>\n",
              "      <td>4</td>\n",
              "      <td>Physical</td>\n",
              "      <td>Horizon</td>\n",
              "      <td>2005</td>\n",
              "      <td>4</td>\n",
              "      <td>1</td>\n",
              "      <td>Annapolis</td>\n",
              "      <td>NaN</td>\n",
              "      <td>book</td>\n",
              "      <td>NaN</td>\n",
              "      <td>NaN</td>\n",
              "      <td>BOOK</td>\n",
              "    </tr>\n",
              "    <tr>\n",
              "      <th>4</th>\n",
              "      <td>5</td>\n",
              "      <td>Physical</td>\n",
              "      <td>Horizon</td>\n",
              "      <td>2005</td>\n",
              "      <td>4</td>\n",
              "      <td>1</td>\n",
              "      <td>As a man thinketh</td>\n",
              "      <td>NaN</td>\n",
              "      <td>book</td>\n",
              "      <td>NaN</td>\n",
              "      <td>NaN</td>\n",
              "      <td>BOOK</td>\n",
              "    </tr>\n",
              "  </tbody>\n",
              "</table>\n",
              "</div>"
            ],
            "text/plain": [
              "   ID UsageClass CheckoutType  CheckoutYear  CheckoutMonth  Checkouts  \\\n",
              "0   1   Physical      Horizon          2005              4          1   \n",
              "1   2   Physical      Horizon          2005              4          1   \n",
              "2   3   Physical      Horizon          2005              4          3   \n",
              "3   4   Physical      Horizon          2005              4          1   \n",
              "4   5   Physical      Horizon          2005              4          1   \n",
              "\n",
              "                                               Title               Creator  \\\n",
              "0                                         Tidal wave                   NaN   \n",
              "1                     London holiday / Richard Peck.  Peck, Richard, 1934-   \n",
              "2  Cinco de Mayo : celebrating Hispanic pride / C...      Gnojewski, Carol   \n",
              "3                                          Annapolis                   NaN   \n",
              "4                                  As a man thinketh                   NaN   \n",
              "\n",
              "  Subjects           Publisher PublicationYear MaterialType  \n",
              "0     book                 NaN             NaN         BOOK  \n",
              "1     book             Viking,           1998.         BOOK  \n",
              "2     book  Enslow Publishers,          c2002.         BOOK  \n",
              "3     book                 NaN             NaN         BOOK  \n",
              "4     book                 NaN             NaN         BOOK  "
            ]
          },
          "metadata": {
            "tags": []
          },
          "execution_count": 26
        }
      ]
    },
    {
      "metadata": {
        "id": "0sEuN1K4LU0n",
        "colab_type": "code",
        "colab": {},
        "outputId": "bd5eec64-cedb-46c1-ac35-f3cc6886d1e8"
      },
      "cell_type": "code",
      "source": [
        "#Non dependency on these features, since they have same values for all data samples.\n",
        "print(train['UsageClass'].unique())\n",
        "print(train['CheckoutType'].unique())\n",
        "print(train['CheckoutYear'].unique())\n",
        "print(train['CheckoutMonth'].unique())"
      ],
      "execution_count": 0,
      "outputs": [
        {
          "output_type": "stream",
          "text": [
            "['Physical']\n",
            "['Horizon']\n",
            "[2005]\n",
            "[4]\n"
          ],
          "name": "stdout"
        }
      ]
    },
    {
      "metadata": {
        "id": "YeZwoNKZLU0z",
        "colab_type": "code",
        "colab": {},
        "outputId": "1b25d0f6-dd71-4875-b193-6a04ae89ab9f"
      },
      "cell_type": "code",
      "source": [
        "train.drop(['UsageClass', 'CheckoutType', 'CheckoutYear', 'CheckoutMonth'], axis=1, inplace=True)\n",
        "train.drop(['Title', 'Creator', 'Publisher', 'PublicationYear'], axis=1, inplace=True)\n",
        "train.head()"
      ],
      "execution_count": 0,
      "outputs": [
        {
          "output_type": "execute_result",
          "data": {
            "text/html": [
              "<div>\n",
              "<style scoped>\n",
              "    .dataframe tbody tr th:only-of-type {\n",
              "        vertical-align: middle;\n",
              "    }\n",
              "\n",
              "    .dataframe tbody tr th {\n",
              "        vertical-align: top;\n",
              "    }\n",
              "\n",
              "    .dataframe thead th {\n",
              "        text-align: right;\n",
              "    }\n",
              "</style>\n",
              "<table border=\"1\" class=\"dataframe\">\n",
              "  <thead>\n",
              "    <tr style=\"text-align: right;\">\n",
              "      <th></th>\n",
              "      <th>ID</th>\n",
              "      <th>Checkouts</th>\n",
              "      <th>Subjects</th>\n",
              "      <th>MaterialType</th>\n",
              "    </tr>\n",
              "  </thead>\n",
              "  <tbody>\n",
              "    <tr>\n",
              "      <th>0</th>\n",
              "      <td>1</td>\n",
              "      <td>1</td>\n",
              "      <td>book</td>\n",
              "      <td>BOOK</td>\n",
              "    </tr>\n",
              "    <tr>\n",
              "      <th>1</th>\n",
              "      <td>2</td>\n",
              "      <td>1</td>\n",
              "      <td>book</td>\n",
              "      <td>BOOK</td>\n",
              "    </tr>\n",
              "    <tr>\n",
              "      <th>2</th>\n",
              "      <td>3</td>\n",
              "      <td>3</td>\n",
              "      <td>book</td>\n",
              "      <td>BOOK</td>\n",
              "    </tr>\n",
              "    <tr>\n",
              "      <th>3</th>\n",
              "      <td>4</td>\n",
              "      <td>1</td>\n",
              "      <td>book</td>\n",
              "      <td>BOOK</td>\n",
              "    </tr>\n",
              "    <tr>\n",
              "      <th>4</th>\n",
              "      <td>5</td>\n",
              "      <td>1</td>\n",
              "      <td>book</td>\n",
              "      <td>BOOK</td>\n",
              "    </tr>\n",
              "  </tbody>\n",
              "</table>\n",
              "</div>"
            ],
            "text/plain": [
              "   ID  Checkouts Subjects MaterialType\n",
              "0   1          1     book         BOOK\n",
              "1   2          1     book         BOOK\n",
              "2   3          3     book         BOOK\n",
              "3   4          1     book         BOOK\n",
              "4   5          1     book         BOOK"
            ]
          },
          "metadata": {
            "tags": []
          },
          "execution_count": 29
        }
      ]
    },
    {
      "metadata": {
        "id": "t5xiAuR3LU1A",
        "colab_type": "code",
        "colab": {}
      },
      "cell_type": "code",
      "source": [
        "train.drop(['ID'], axis=1, inplace=True)"
      ],
      "execution_count": 0,
      "outputs": []
    },
    {
      "metadata": {
        "id": "31qTsgipLU1L",
        "colab_type": "code",
        "colab": {},
        "outputId": "2d2da9e0-9505-4066-b99f-b86ee638979b"
      },
      "cell_type": "code",
      "source": [
        "y_train = train['MaterialType']\n",
        "y_train.head()"
      ],
      "execution_count": 0,
      "outputs": [
        {
          "output_type": "execute_result",
          "data": {
            "text/plain": [
              "0    BOOK\n",
              "1    BOOK\n",
              "2    BOOK\n",
              "3    BOOK\n",
              "4    BOOK\n",
              "Name: MaterialType, dtype: object"
            ]
          },
          "metadata": {
            "tags": []
          },
          "execution_count": 31
        }
      ]
    },
    {
      "metadata": {
        "id": "pYZD9JxBLU1b",
        "colab_type": "code",
        "colab": {},
        "outputId": "3ce92e96-9987-41d3-c96d-db94d5af42be"
      },
      "cell_type": "code",
      "source": [
        "subject = pd.get_dummies(train['Subjects'])\n",
        "subject.head()"
      ],
      "execution_count": 0,
      "outputs": [
        {
          "output_type": "execute_result",
          "data": {
            "text/html": [
              "<div>\n",
              "<style scoped>\n",
              "    .dataframe tbody tr th:only-of-type {\n",
              "        vertical-align: middle;\n",
              "    }\n",
              "\n",
              "    .dataframe tbody tr th {\n",
              "        vertical-align: top;\n",
              "    }\n",
              "\n",
              "    .dataframe thead th {\n",
              "        text-align: right;\n",
              "    }\n",
              "</style>\n",
              "<table border=\"1\" class=\"dataframe\">\n",
              "  <thead>\n",
              "    <tr style=\"text-align: right;\">\n",
              "      <th></th>\n",
              "      <th>book</th>\n",
              "      <th>music</th>\n",
              "      <th>video</th>\n",
              "    </tr>\n",
              "  </thead>\n",
              "  <tbody>\n",
              "    <tr>\n",
              "      <th>0</th>\n",
              "      <td>1</td>\n",
              "      <td>0</td>\n",
              "      <td>0</td>\n",
              "    </tr>\n",
              "    <tr>\n",
              "      <th>1</th>\n",
              "      <td>1</td>\n",
              "      <td>0</td>\n",
              "      <td>0</td>\n",
              "    </tr>\n",
              "    <tr>\n",
              "      <th>2</th>\n",
              "      <td>1</td>\n",
              "      <td>0</td>\n",
              "      <td>0</td>\n",
              "    </tr>\n",
              "    <tr>\n",
              "      <th>3</th>\n",
              "      <td>1</td>\n",
              "      <td>0</td>\n",
              "      <td>0</td>\n",
              "    </tr>\n",
              "    <tr>\n",
              "      <th>4</th>\n",
              "      <td>1</td>\n",
              "      <td>0</td>\n",
              "      <td>0</td>\n",
              "    </tr>\n",
              "  </tbody>\n",
              "</table>\n",
              "</div>"
            ],
            "text/plain": [
              "   book  music  video\n",
              "0     1      0      0\n",
              "1     1      0      0\n",
              "2     1      0      0\n",
              "3     1      0      0\n",
              "4     1      0      0"
            ]
          },
          "metadata": {
            "tags": []
          },
          "execution_count": 32
        }
      ]
    },
    {
      "metadata": {
        "id": "s9hkUZ5zLU1i",
        "colab_type": "code",
        "colab": {},
        "outputId": "d18cb5d4-1bea-468d-c1d8-3cf47d51b3b0"
      },
      "cell_type": "code",
      "source": [
        "train.drop(['Subjects'], axis=1, inplace=True)\n",
        "X_train = pd.concat([train, subject], axis=1)\n",
        "X_train.drop(['MaterialType'], axis=1, inplace=True)\n",
        "X_train.head()"
      ],
      "execution_count": 0,
      "outputs": [
        {
          "output_type": "execute_result",
          "data": {
            "text/html": [
              "<div>\n",
              "<style scoped>\n",
              "    .dataframe tbody tr th:only-of-type {\n",
              "        vertical-align: middle;\n",
              "    }\n",
              "\n",
              "    .dataframe tbody tr th {\n",
              "        vertical-align: top;\n",
              "    }\n",
              "\n",
              "    .dataframe thead th {\n",
              "        text-align: right;\n",
              "    }\n",
              "</style>\n",
              "<table border=\"1\" class=\"dataframe\">\n",
              "  <thead>\n",
              "    <tr style=\"text-align: right;\">\n",
              "      <th></th>\n",
              "      <th>Checkouts</th>\n",
              "      <th>book</th>\n",
              "      <th>music</th>\n",
              "      <th>video</th>\n",
              "    </tr>\n",
              "  </thead>\n",
              "  <tbody>\n",
              "    <tr>\n",
              "      <th>0</th>\n",
              "      <td>1</td>\n",
              "      <td>1</td>\n",
              "      <td>0</td>\n",
              "      <td>0</td>\n",
              "    </tr>\n",
              "    <tr>\n",
              "      <th>1</th>\n",
              "      <td>1</td>\n",
              "      <td>1</td>\n",
              "      <td>0</td>\n",
              "      <td>0</td>\n",
              "    </tr>\n",
              "    <tr>\n",
              "      <th>2</th>\n",
              "      <td>3</td>\n",
              "      <td>1</td>\n",
              "      <td>0</td>\n",
              "      <td>0</td>\n",
              "    </tr>\n",
              "    <tr>\n",
              "      <th>3</th>\n",
              "      <td>1</td>\n",
              "      <td>1</td>\n",
              "      <td>0</td>\n",
              "      <td>0</td>\n",
              "    </tr>\n",
              "    <tr>\n",
              "      <th>4</th>\n",
              "      <td>1</td>\n",
              "      <td>1</td>\n",
              "      <td>0</td>\n",
              "      <td>0</td>\n",
              "    </tr>\n",
              "  </tbody>\n",
              "</table>\n",
              "</div>"
            ],
            "text/plain": [
              "   Checkouts  book  music  video\n",
              "0          1     1      0      0\n",
              "1          1     1      0      0\n",
              "2          3     1      0      0\n",
              "3          1     1      0      0\n",
              "4          1     1      0      0"
            ]
          },
          "metadata": {
            "tags": []
          },
          "execution_count": 33
        }
      ]
    },
    {
      "metadata": {
        "id": "dFsER0d-LU1q",
        "colab_type": "code",
        "colab": {},
        "outputId": "958e0803-13dd-459b-8d18-48992b90b118"
      },
      "cell_type": "code",
      "source": [
        "print(X_train.shape, y_train.shape)"
      ],
      "execution_count": 0,
      "outputs": [
        {
          "output_type": "stream",
          "text": [
            "(31653, 4) (31653,)\n"
          ],
          "name": "stdout"
        }
      ]
    },
    {
      "metadata": {
        "id": "ql2mCkFPLU10",
        "colab_type": "text"
      },
      "cell_type": "markdown",
      "source": [
        "The Train Dataset has been succesfully preprocessed and is ready to be used for training a Classifier model."
      ]
    },
    {
      "metadata": {
        "id": "1ZNl4lt3LU13",
        "colab_type": "text"
      },
      "cell_type": "markdown",
      "source": [
        "Before creating our Machine Learning model, Lets preprocess our Test Dataset using same above steps."
      ]
    },
    {
      "metadata": {
        "scrolled": true,
        "id": "aUylh5oWLU15",
        "colab_type": "code",
        "colab": {},
        "outputId": "53028867-a3dc-4242-e1ad-aeab5ce45ef6"
      },
      "cell_type": "code",
      "source": [
        "test.info()"
      ],
      "execution_count": 0,
      "outputs": [
        {
          "output_type": "stream",
          "text": [
            "<class 'pandas.core.frame.DataFrame'>\n",
            "RangeIndex: 21102 entries, 0 to 21101\n",
            "Data columns (total 11 columns):\n",
            "ID                 21102 non-null int64\n",
            "UsageClass         21102 non-null object\n",
            "CheckoutType       21102 non-null object\n",
            "CheckoutYear       21102 non-null int64\n",
            "CheckoutMonth      21102 non-null int64\n",
            "Checkouts          21102 non-null int64\n",
            "Title              21102 non-null object\n",
            "Creator            5998 non-null object\n",
            "Subjects           19889 non-null object\n",
            "Publisher          6875 non-null object\n",
            "PublicationYear    6860 non-null object\n",
            "dtypes: int64(4), object(7)\n",
            "memory usage: 1.8+ MB\n"
          ],
          "name": "stdout"
        }
      ]
    },
    {
      "metadata": {
        "id": "gfYbSDrcLU2A",
        "colab_type": "code",
        "colab": {},
        "outputId": "1e7f7f52-e261-49bf-c23c-711640015eae"
      },
      "cell_type": "code",
      "source": [
        "missingno.matrix(test)\n",
        "plt.show()"
      ],
      "execution_count": 0,
      "outputs": [
        {
          "output_type": "display_data",
          "data": {
            "image/png": "[encoded data removed]",
            "text/plain": [
              "<Figure size 1800x720 with 2 Axes>"
            ]
          },
          "metadata": {
            "tags": [],
            "needs_background": "light"
          }
        }
      ]
    },
    {
      "metadata": {
        "id": "E-4otd0jLU2G",
        "colab_type": "code",
        "colab": {}
      },
      "cell_type": "code",
      "source": [
        "test.drop(['UsageClass', 'CheckoutType', 'CheckoutYear', 'CheckoutMonth'], axis=1, inplace=True)\n",
        "test.drop(['Title', 'Creator', 'Publisher', 'PublicationYear'], axis=1, inplace=True)\n",
        "test.drop(['ID'], axis=1, inplace=True)"
      ],
      "execution_count": 0,
      "outputs": []
    },
    {
      "metadata": {
        "id": "-vxTgXw1LU2M",
        "colab_type": "code",
        "colab": {},
        "outputId": "2160e0f9-906c-4001-c2c6-081b229a488d"
      },
      "cell_type": "code",
      "source": [
        "test['Subjects'] = test[['Subjects']].apply(fill_sub, axis=1)\n",
        "subject_test = pd.get_dummies(test['Subjects'])\n",
        "subject_test.head()"
      ],
      "execution_count": 0,
      "outputs": [
        {
          "output_type": "execute_result",
          "data": {
            "text/html": [
              "<div>\n",
              "<style scoped>\n",
              "    .dataframe tbody tr th:only-of-type {\n",
              "        vertical-align: middle;\n",
              "    }\n",
              "\n",
              "    .dataframe tbody tr th {\n",
              "        vertical-align: top;\n",
              "    }\n",
              "\n",
              "    .dataframe thead th {\n",
              "        text-align: right;\n",
              "    }\n",
              "</style>\n",
              "<table border=\"1\" class=\"dataframe\">\n",
              "  <thead>\n",
              "    <tr style=\"text-align: right;\">\n",
              "      <th></th>\n",
              "      <th>book</th>\n",
              "      <th>music</th>\n",
              "      <th>video</th>\n",
              "    </tr>\n",
              "  </thead>\n",
              "  <tbody>\n",
              "    <tr>\n",
              "      <th>0</th>\n",
              "      <td>1</td>\n",
              "      <td>0</td>\n",
              "      <td>0</td>\n",
              "    </tr>\n",
              "    <tr>\n",
              "      <th>1</th>\n",
              "      <td>0</td>\n",
              "      <td>0</td>\n",
              "      <td>1</td>\n",
              "    </tr>\n",
              "    <tr>\n",
              "      <th>2</th>\n",
              "      <td>0</td>\n",
              "      <td>1</td>\n",
              "      <td>0</td>\n",
              "    </tr>\n",
              "    <tr>\n",
              "      <th>3</th>\n",
              "      <td>1</td>\n",
              "      <td>0</td>\n",
              "      <td>0</td>\n",
              "    </tr>\n",
              "    <tr>\n",
              "      <th>4</th>\n",
              "      <td>1</td>\n",
              "      <td>0</td>\n",
              "      <td>0</td>\n",
              "    </tr>\n",
              "  </tbody>\n",
              "</table>\n",
              "</div>"
            ],
            "text/plain": [
              "   book  music  video\n",
              "0     1      0      0\n",
              "1     0      0      1\n",
              "2     0      1      0\n",
              "3     1      0      0\n",
              "4     1      0      0"
            ]
          },
          "metadata": {
            "tags": []
          },
          "execution_count": 39
        }
      ]
    },
    {
      "metadata": {
        "id": "DU6GGFdZLU2T",
        "colab_type": "code",
        "colab": {}
      },
      "cell_type": "code",
      "source": [
        "test.drop(['Subjects'], axis=1, inplace=True)"
      ],
      "execution_count": 0,
      "outputs": []
    },
    {
      "metadata": {
        "id": "xOT7V69vLU2Y",
        "colab_type": "code",
        "colab": {},
        "outputId": "146720c1-6767-4048-c5c7-8e9fac52dd7a"
      },
      "cell_type": "code",
      "source": [
        "X_test = pd.concat([test, subject_test], axis=1)\n",
        "X_test.head()"
      ],
      "execution_count": 0,
      "outputs": [
        {
          "output_type": "execute_result",
          "data": {
            "text/html": [
              "<div>\n",
              "<style scoped>\n",
              "    .dataframe tbody tr th:only-of-type {\n",
              "        vertical-align: middle;\n",
              "    }\n",
              "\n",
              "    .dataframe tbody tr th {\n",
              "        vertical-align: top;\n",
              "    }\n",
              "\n",
              "    .dataframe thead th {\n",
              "        text-align: right;\n",
              "    }\n",
              "</style>\n",
              "<table border=\"1\" class=\"dataframe\">\n",
              "  <thead>\n",
              "    <tr style=\"text-align: right;\">\n",
              "      <th></th>\n",
              "      <th>Checkouts</th>\n",
              "      <th>book</th>\n",
              "      <th>music</th>\n",
              "      <th>video</th>\n",
              "    </tr>\n",
              "  </thead>\n",
              "  <tbody>\n",
              "    <tr>\n",
              "      <th>0</th>\n",
              "      <td>1</td>\n",
              "      <td>1</td>\n",
              "      <td>0</td>\n",
              "      <td>0</td>\n",
              "    </tr>\n",
              "    <tr>\n",
              "      <th>1</th>\n",
              "      <td>2</td>\n",
              "      <td>0</td>\n",
              "      <td>0</td>\n",
              "      <td>1</td>\n",
              "    </tr>\n",
              "    <tr>\n",
              "      <th>2</th>\n",
              "      <td>2</td>\n",
              "      <td>0</td>\n",
              "      <td>1</td>\n",
              "      <td>0</td>\n",
              "    </tr>\n",
              "    <tr>\n",
              "      <th>3</th>\n",
              "      <td>2</td>\n",
              "      <td>1</td>\n",
              "      <td>0</td>\n",
              "      <td>0</td>\n",
              "    </tr>\n",
              "    <tr>\n",
              "      <th>4</th>\n",
              "      <td>2</td>\n",
              "      <td>1</td>\n",
              "      <td>0</td>\n",
              "      <td>0</td>\n",
              "    </tr>\n",
              "  </tbody>\n",
              "</table>\n",
              "</div>"
            ],
            "text/plain": [
              "   Checkouts  book  music  video\n",
              "0          1     1      0      0\n",
              "1          2     0      0      1\n",
              "2          2     0      1      0\n",
              "3          2     1      0      0\n",
              "4          2     1      0      0"
            ]
          },
          "metadata": {
            "tags": []
          },
          "execution_count": 41
        }
      ]
    },
    {
      "metadata": {
        "id": "varIVXlvLU2h",
        "colab_type": "text"
      },
      "cell_type": "markdown",
      "source": [
        "Our Test Dataset is now ready to be used for prediction."
      ]
    },
    {
      "metadata": {
        "id": "o2DQD6jOLU2j",
        "colab_type": "text"
      },
      "cell_type": "markdown",
      "source": [
        "Lets get the Labels for Test Dataset to be used later after prediction, for determining Accuracy Score of our model and other metrics."
      ]
    },
    {
      "metadata": {
        "id": "8F-lE3f7LU2l",
        "colab_type": "code",
        "colab": {},
        "outputId": "039f75b2-57a6-4e90-dd9a-1c1767f18482"
      },
      "cell_type": "code",
      "source": [
        "y_test = pd.read_csv('results_file.csv')\n",
        "y_test.head()"
      ],
      "execution_count": 0,
      "outputs": [
        {
          "output_type": "execute_result",
          "data": {
            "text/html": [
              "<div>\n",
              "<style scoped>\n",
              "    .dataframe tbody tr th:only-of-type {\n",
              "        vertical-align: middle;\n",
              "    }\n",
              "\n",
              "    .dataframe tbody tr th {\n",
              "        vertical-align: top;\n",
              "    }\n",
              "\n",
              "    .dataframe thead th {\n",
              "        text-align: right;\n",
              "    }\n",
              "</style>\n",
              "<table border=\"1\" class=\"dataframe\">\n",
              "  <thead>\n",
              "    <tr style=\"text-align: right;\">\n",
              "      <th></th>\n",
              "      <th>ID</th>\n",
              "      <th>MaterialType</th>\n",
              "    </tr>\n",
              "  </thead>\n",
              "  <tbody>\n",
              "    <tr>\n",
              "      <th>0</th>\n",
              "      <td>31654</td>\n",
              "      <td>BOOK</td>\n",
              "    </tr>\n",
              "    <tr>\n",
              "      <th>1</th>\n",
              "      <td>31655</td>\n",
              "      <td>VIDEOCASS</td>\n",
              "    </tr>\n",
              "    <tr>\n",
              "      <th>2</th>\n",
              "      <td>31656</td>\n",
              "      <td>SOUNDDISC</td>\n",
              "    </tr>\n",
              "    <tr>\n",
              "      <th>3</th>\n",
              "      <td>31657</td>\n",
              "      <td>BOOK</td>\n",
              "    </tr>\n",
              "    <tr>\n",
              "      <th>4</th>\n",
              "      <td>31658</td>\n",
              "      <td>VIDEOCASS</td>\n",
              "    </tr>\n",
              "  </tbody>\n",
              "</table>\n",
              "</div>"
            ],
            "text/plain": [
              "      ID MaterialType\n",
              "0  31654         BOOK\n",
              "1  31655    VIDEOCASS\n",
              "2  31656    SOUNDDISC\n",
              "3  31657         BOOK\n",
              "4  31658    VIDEOCASS"
            ]
          },
          "metadata": {
            "tags": []
          },
          "execution_count": 42
        }
      ]
    },
    {
      "metadata": {
        "id": "r6N8qMn8LU2u",
        "colab_type": "text"
      },
      "cell_type": "markdown",
      "source": [
        "Save ID values to be used for our submission file."
      ]
    },
    {
      "metadata": {
        "id": "cud-iJZ3LU2x",
        "colab_type": "code",
        "colab": {},
        "outputId": "c395ed77-f6eb-4f3e-ddb8-47888604ade8"
      },
      "cell_type": "code",
      "source": [
        "ID = y_test['ID']\n",
        "ID.head()"
      ],
      "execution_count": 0,
      "outputs": [
        {
          "output_type": "execute_result",
          "data": {
            "text/plain": [
              "0    31654\n",
              "1    31655\n",
              "2    31656\n",
              "3    31657\n",
              "4    31658\n",
              "Name: ID, dtype: int64"
            ]
          },
          "metadata": {
            "tags": []
          },
          "execution_count": 43
        }
      ]
    },
    {
      "metadata": {
        "id": "ADd6jVqsLU26",
        "colab_type": "code",
        "colab": {},
        "outputId": "d5c4f3ce-3f68-4817-b892-b6f8e3f87ae9"
      },
      "cell_type": "code",
      "source": [
        "y_test.drop(['ID'], axis=1, inplace=True)\n",
        "y_test.head()"
      ],
      "execution_count": 0,
      "outputs": [
        {
          "output_type": "execute_result",
          "data": {
            "text/html": [
              "<div>\n",
              "<style scoped>\n",
              "    .dataframe tbody tr th:only-of-type {\n",
              "        vertical-align: middle;\n",
              "    }\n",
              "\n",
              "    .dataframe tbody tr th {\n",
              "        vertical-align: top;\n",
              "    }\n",
              "\n",
              "    .dataframe thead th {\n",
              "        text-align: right;\n",
              "    }\n",
              "</style>\n",
              "<table border=\"1\" class=\"dataframe\">\n",
              "  <thead>\n",
              "    <tr style=\"text-align: right;\">\n",
              "      <th></th>\n",
              "      <th>MaterialType</th>\n",
              "    </tr>\n",
              "  </thead>\n",
              "  <tbody>\n",
              "    <tr>\n",
              "      <th>0</th>\n",
              "      <td>BOOK</td>\n",
              "    </tr>\n",
              "    <tr>\n",
              "      <th>1</th>\n",
              "      <td>VIDEOCASS</td>\n",
              "    </tr>\n",
              "    <tr>\n",
              "      <th>2</th>\n",
              "      <td>SOUNDDISC</td>\n",
              "    </tr>\n",
              "    <tr>\n",
              "      <th>3</th>\n",
              "      <td>BOOK</td>\n",
              "    </tr>\n",
              "    <tr>\n",
              "      <th>4</th>\n",
              "      <td>VIDEOCASS</td>\n",
              "    </tr>\n",
              "  </tbody>\n",
              "</table>\n",
              "</div>"
            ],
            "text/plain": [
              "  MaterialType\n",
              "0         BOOK\n",
              "1    VIDEOCASS\n",
              "2    SOUNDDISC\n",
              "3         BOOK\n",
              "4    VIDEOCASS"
            ]
          },
          "metadata": {
            "tags": []
          },
          "execution_count": 44
        }
      ]
    },
    {
      "metadata": {
        "id": "5xviPlolLU3H",
        "colab_type": "text"
      },
      "cell_type": "markdown",
      "source": [
        "Finally, Lets prepare our Machine Learning based Classifier models like LogisticRegression, SupportVectorMachine (SVM), KNN etc.\n",
        "\n",
        "Lets use sklearn library for training various models using our Train Dataset and then make prediction for our Test Dataset."
      ]
    },
    {
      "metadata": {
        "id": "3sED4m2sLU3L",
        "colab_type": "code",
        "colab": {}
      },
      "cell_type": "code",
      "source": [
        "from sklearn.linear_model import LogisticRegression\n",
        "model1 = LogisticRegression()\n",
        "model1.fit(X_train, y_train)\n",
        "\n",
        "prediction1 = model1.predict(X_test)"
      ],
      "execution_count": 0,
      "outputs": []
    },
    {
      "metadata": {
        "id": "qdAqexwfLU3R",
        "colab_type": "code",
        "colab": {},
        "outputId": "ae86ed9c-0840-442b-a100-bba1b28679c2"
      },
      "cell_type": "code",
      "source": [
        "from sklearn.metrics import accuracy_score\n",
        "from sklearn.metrics import f1_score\n",
        "\n",
        "print(\"LogisticRegresiion Accuracy: {}%\".format(accuracy_score(y_test, prediction1)*100.0))\n",
        "print(\"LogisticRegression f1_score: \", f1_score(y_test, prediction1, average='micro')"
      ],
      "execution_count": 0,
      "outputs": [
        {
          "output_type": "stream",
          "text": [
            "LogisticRegresiion Accuracy: 84.45644962562791%\n",
            "LogisticRegression f1_score:  0.844564496256279\n"
          ],
          "name": "stdout"
        }
      ]
    },
    {
      "metadata": {
        "id": "iiRwbmv3LU3d",
        "colab_type": "code",
        "colab": {},
        "outputId": "e1c075e9-8e26-457e-f063-a27b9e63b49e"
      },
      "cell_type": "code",
      "source": [
        "from sklearn.svm import SVC\n",
        "model2 = SVC()\n",
        "model2.fit(X_train, y_train)\n",
        "\n",
        "prediction2 = model2.predict(X_test)\n",
        "print(\"SVMClassifier Accuracy: {}%\".format(accuracy_score(y_test, prediction2)*100.0))\n",
        "print(\"SVMclassifier f1_score: \", f1_score(y_test, prediction2, average='micro'))"
      ],
      "execution_count": 0,
      "outputs": [
        {
          "output_type": "stream",
          "text": [
            "SVMClassifier Accuracy: 84.48488294948346%\n",
            "SVMclassifier f1_score:  0.8448488294948346\n"
          ],
          "name": "stdout"
        }
      ]
    },
    {
      "metadata": {
        "id": "b4i2VNVZLU3l",
        "colab_type": "code",
        "colab": {}
      },
      "cell_type": "code",
      "source": [
        "#save results\n",
        "result = pd.DataFrame({'ID': ID, 'MaterialType': prediction2})\n",
        "result.to_csv('my_submission.csv', index=False)"
      ],
      "execution_count": 0,
      "outputs": []
    }
  ]
}